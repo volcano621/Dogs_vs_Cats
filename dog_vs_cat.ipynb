{
 "cells": [
  {
   "cell_type": "code",
   "execution_count": 21,
   "outputs": [],
   "source": [
    "import pandas as pd\n",
    "import numpy as np\n",
    "import torch\n",
    "import torch.nn as nn\n",
    "import torch.optim as optim\n",
    "from torch.utils.data import Dataset, DataLoader\n",
    "from torchvision import transforms, utils\n",
    "import os\n",
    "import glob\n",
    "import PIL"
   ],
   "metadata": {
    "collapsed": false,
    "ExecuteTime": {
     "end_time": "2023-09-27T12:49:21.889395900Z",
     "start_time": "2023-09-27T12:49:21.827982300Z"
    }
   }
  },
  {
   "cell_type": "code",
   "execution_count": 22,
   "outputs": [],
   "source": [
    "bath_size = 32\n",
    "device = 'cuda' if torch.cuda.is_available() else 'cpu'"
   ],
   "metadata": {
    "collapsed": false,
    "ExecuteTime": {
     "end_time": "2023-09-27T12:49:24.126382600Z",
     "start_time": "2023-09-27T12:49:23.628678900Z"
    }
   }
  },
  {
   "cell_type": "code",
   "execution_count": 23,
   "outputs": [],
   "source": [
    "train_dir = './dataset/train/train'\n",
    "test_dir = './dataset/test/test'\n",
    "\n",
    "# glob.glob是用来查找符合特定规则的文件路径名的，跟使用正则表达式的方法很类似\n",
    "train_list = glob.glob(os.path.join(train_dir, '*.jpg'))\n",
    "test_list = glob.glob(os.path.join(test_dir, '*.jpg'))\n",
    "\n",
    "train_transforms = transforms.Compose([\n",
    "    transforms.Resize((224, 224)),\n",
    "    transforms.ToTensor(),\n",
    "])\n",
    "test_transforms = transforms.Compose([\n",
    "    transforms.Resize((224, 224)),\n",
    "    transforms.ToTensor(),\n",
    "])\n"
   ],
   "metadata": {
    "collapsed": false,
    "ExecuteTime": {
     "end_time": "2023-09-27T12:49:24.127370Z",
     "start_time": "2023-09-27T12:49:23.634626800Z"
    }
   }
  },
  {
   "cell_type": "code",
   "execution_count": 24,
   "outputs": [],
   "source": [
    "class MyDataset(Dataset):\n",
    "    def __init__(self, file_list, transform=None):\n",
    "        self.file_list = file_list\n",
    "        self.transform = transform\n",
    "\n",
    "    def __len__(self):\n",
    "        return len(self.file_list)\n",
    "\n",
    "    def __getitem__(self, idx):\n",
    "        img_path = self.file_list[idx]\n",
    "        img = PIL.Image.open(img_path)\n",
    "        label = img_path.split('/')[-1].split('.')[0]\n",
    "        if label == 'cat':\n",
    "            label = 0\n",
    "        elif label == 'dog':\n",
    "            label = 1\n",
    "        if self.transform:\n",
    "            img = self.transform(img)\n",
    "        return img, label"
   ],
   "metadata": {
    "collapsed": false,
    "ExecuteTime": {
     "end_time": "2023-09-27T12:49:24.128366600Z",
     "start_time": "2023-09-27T12:49:23.857079900Z"
    }
   }
  },
  {
   "cell_type": "code",
   "execution_count": 25,
   "outputs": [],
   "source": [
    "train_data = MyDataset(train_list, transform=train_transforms)\n",
    "test_data = MyDataset(test_list, transform=test_transforms)"
   ],
   "metadata": {
    "collapsed": false,
    "ExecuteTime": {
     "end_time": "2023-09-27T12:49:24.128366600Z",
     "start_time": "2023-09-27T12:49:23.870076Z"
    }
   }
  },
  {
   "cell_type": "code",
   "execution_count": 26,
   "outputs": [
    {
     "name": "stdout",
     "output_type": "stream",
     "text": [
      "torch.Size([3, 224, 224])\n"
     ]
    }
   ],
   "source": [
    "train_loader = DataLoader(dataset=train_data, batch_size=bath_size, shuffle=True)\n",
    "test_loader = DataLoader(dataset=test_data, batch_size=bath_size, shuffle=False)\n",
    "\n",
    "print(train_data[0][0].shape)"
   ],
   "metadata": {
    "collapsed": false,
    "ExecuteTime": {
     "end_time": "2023-09-27T12:49:24.128366600Z",
     "start_time": "2023-09-27T12:49:23.888977400Z"
    }
   }
  },
  {
   "cell_type": "markdown",
   "source": [
    "## 构建CNN模型\n",
    "### 卷积层（Convolutional Layer）：\n",
    "    卷积核就像一个小窗口在图像上滑动，一次只看一小部分图像（比如5x5像素），然后通过一些数学运算（卷积操作）来检测图像中的特征，比如边缘、纹理等。这一层的目标是捕捉图像的局部信息，通常是一个正方形的矩阵。可以根据希望卷积核捕获的特征尺寸来选择合适的大小。较小的卷积核通常用于捕获局部特征，而较大的卷积核可以捕获更大范围的特征。\n",
    "    归一化：nn.BatchNorm2d(16) 表示在神经网络中应用批量归一化层，作用于一个具有 16 个输出通道（特征图）的卷积层或线性层的输出。批量归一化通常紧跟在卷积层或全连接层后面，以确保网络的稳定性和训练效果。\n",
    "    激活函数：nn.ReLU(inplace=True) 表示在神经网络中应用 ReLU 激活函数，作用于卷积层或线性层的输出。ReLU 激活函数可以增加网络的非线性特性，从而提高网络的表达能力。将所有负数输入变为零，保持正数输入不变。\n",
    "### 池化层（Pooling Layer）：\n",
    "    这一层的任务是缩小图像的尺寸，减少计算量，并且保留最重要的信息。通常，池化层会在卷积层的输出上滑动一个小窗口，然后选择窗口中的最大值（最大池化）或者平均值（平均池化）作为新图像的一部分。这有助于降低图像的维度。\n",
    "### 全连接层（Fully Connected Layer）\n",
    "    这一层是CNN的输出层，它将前面的卷积和池化层提取的特征连接在一起，并将它们送入一个神经网络中，用于最终的分类或回归任务。这一层通常包含多个神经元，每个神经元与前一层的所有神经元相连接，因此称为全连接。\n",
    "    丢弃层（Dropout Layer）：nn.Dropout 用于在训练过程中随机丢弃一部分神经元的输出，以减少过拟合的风险。参数 0.5 表示丢弃概率为 50%，即每个神经元在前向传播过程中都有 50% 的概率被丢弃。这有助于提高模型的泛化能力。"
   ],
   "metadata": {
    "collapsed": false
   }
  },
  {
   "cell_type": "code",
   "execution_count": 27,
   "outputs": [],
   "source": [
    "class CNN(nn.Module):\n",
    "    def __init__(self):\n",
    "        super(CNN, self).__init__() # 调用父类的初始化函数\n",
    "        # 卷积+池化层\n",
    "        self.conv1 = nn.Sequential(\n",
    "            nn.Conv2d(in_channels=3, out_channels=16, kernel_size=3, stride=2, padding=0), # 3*224*224 -> 16*224*224, stride=2保证卷积核每次移动一个像素, padding=0表示的是在图像周围补0个数,kernel_size=3表示卷积核大小为3*3\n",
    "            nn.BatchNorm2d(16),\n",
    "            nn.ReLU(inplace=True),\n",
    "            nn.MaxPool2d(kernel_size=2) # 16*224*224 -> 16*112*112, kernel_size=2表示池化窗口大小为2*2\n",
    "        )\n",
    "        self.conv2 = nn.Sequential(\n",
    "            nn.Conv2d(in_channels=16, out_channels=32, kernel_size=3, stride=2, padding=0), # 16*112*112 -> 32*112*112\n",
    "            nn.BatchNorm2d(32),\n",
    "            nn.ReLU(inplace=True),\n",
    "            nn.MaxPool2d(kernel_size=2) # 32*112*112 -> 32*56*56\n",
    "        )\n",
    "        self.conv3 = nn.Sequential(\n",
    "            nn.Conv2d(in_channels=32, out_channels=64, kernel_size=3, stride=2, padding=0),\n",
    "            nn.BatchNorm2d(64),\n",
    "            nn.ReLU(inplace=True),\n",
    "            nn.MaxPool2d(kernel_size=2),\n",
    "        )\n",
    "        # 全连接层\n",
    "        self.fc1 = nn.Linear(3*3*64, 10) # 3*3*64表示输入的特征数，10表示输出的特征数\n",
    "        self.dropout = nn.Dropout(0.5)\n",
    "        self.fc2 = nn.Linear(10,2) # 映射到 0/1 两种分类\n",
    "        self.relu = nn.ReLU()\n",
    "\n",
    "    # 调用之前定义的层\n",
    "    def forward(self, x):\n",
    "        out = self.conv1(x)\n",
    "        out = self.conv2(out)\n",
    "        out = self.conv3(out)\n",
    "        out = out.view(out.size(0),-1) # 从多维向量变成一维向量\n",
    "        out = self.fc1(out)\n",
    "        out = self.relu(out)\n",
    "        out = self.fc2(out)\n",
    "        return out\n"
   ],
   "metadata": {
    "collapsed": false,
    "ExecuteTime": {
     "end_time": "2023-09-27T12:49:24.128366600Z",
     "start_time": "2023-09-27T12:49:23.908930900Z"
    }
   }
  },
  {
   "cell_type": "code",
   "execution_count": 28,
   "outputs": [
    {
     "data": {
      "text/plain": "CNN(\n  (conv1): Sequential(\n    (0): Conv2d(3, 16, kernel_size=(3, 3), stride=(2, 2))\n    (1): BatchNorm2d(16, eps=1e-05, momentum=0.1, affine=True, track_running_stats=True)\n    (2): ReLU(inplace=True)\n    (3): MaxPool2d(kernel_size=2, stride=2, padding=0, dilation=1, ceil_mode=False)\n  )\n  (conv2): Sequential(\n    (0): Conv2d(16, 32, kernel_size=(3, 3), stride=(2, 2))\n    (1): BatchNorm2d(32, eps=1e-05, momentum=0.1, affine=True, track_running_stats=True)\n    (2): ReLU(inplace=True)\n    (3): MaxPool2d(kernel_size=2, stride=2, padding=0, dilation=1, ceil_mode=False)\n  )\n  (conv3): Sequential(\n    (0): Conv2d(32, 64, kernel_size=(3, 3), stride=(2, 2))\n    (1): BatchNorm2d(64, eps=1e-05, momentum=0.1, affine=True, track_running_stats=True)\n    (2): ReLU(inplace=True)\n    (3): MaxPool2d(kernel_size=2, stride=2, padding=0, dilation=1, ceil_mode=False)\n  )\n  (fc1): Linear(in_features=576, out_features=10, bias=True)\n  (dropout): Dropout(p=0.5, inplace=False)\n  (fc2): Linear(in_features=10, out_features=2, bias=True)\n  (relu): ReLU()\n)"
     },
     "execution_count": 28,
     "metadata": {},
     "output_type": "execute_result"
    }
   ],
   "source": [
    "model = CNN().to(device)\n",
    "model.train()"
   ],
   "metadata": {
    "collapsed": false,
    "ExecuteTime": {
     "end_time": "2023-09-27T12:49:24.144313300Z",
     "start_time": "2023-09-27T12:49:23.917527200Z"
    }
   }
  }
 ],
 "metadata": {
  "kernelspec": {
   "display_name": "Python 3",
   "language": "python",
   "name": "python3"
  },
  "language_info": {
   "codemirror_mode": {
    "name": "ipython",
    "version": 3
   },
   "file_extension": ".py",
   "mimetype": "text/x-python",
   "name": "python",
   "nbconvert_exporter": "python",
   "pygments_lexer": "ipython3",
   "version": "3.8.3"
  }
 },
 "nbformat": 4,
 "nbformat_minor": 5
}
